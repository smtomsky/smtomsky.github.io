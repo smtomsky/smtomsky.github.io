{
 "cells": [
  {
   "cell_type": "markdown",
   "metadata": {},
   "source": [
    "# Lensed Host Image Viewer"
   ]
  },
  {
   "cell_type": "markdown",
   "metadata": {},
   "source": [
    "### 1.  Initial Setup"
   ]
  },
  {
   "cell_type": "code",
   "execution_count": 1,
   "metadata": {},
   "outputs": [],
   "source": [
    "import numpy as np\n",
    "import pandas as pd\n",
    "from astropy.io import fits\n",
    "from scipy import interpolate\n",
    "import glob\n",
    "import math\n",
    "import os\n",
    "import matplotlib.pyplot as plt\n",
    "\n",
    "# pysynphot directory and module (deprecated now in this notebook)...\n",
    "## We only use the pysynphot functions, not the pysynphot database, \n",
    "##  so we set PYSYN_CDBS to a dummy value to avoid scary warning messages...\n",
    "##os.environ['PYSYN_CDBS'] = '/Users/dtucker/IRAF/SynphotData/grp/hst/cdbs/'\n",
    "#os.environ['PYSYN_CDBS'] = '/dummy/'\n",
    "#import pysynphot as S\n",
    "\n",
    "%matplotlib inline\n"
   ]
  },
  {
   "cell_type": "markdown",
   "metadata": {},
   "source": [
    "#### 2.a. Main code"
   ]
  },
  {
   "cell_type": "code",
   "execution_count": 2,
   "metadata": {
    "scrolled": true
   },
   "outputs": [
    {
     "ename": "OSError",
     "evalue": "[Errno 22] Invalid argument: 'jupyter_image_maker\\x07gn_lensed_bulges\\\\list'",
     "output_type": "error",
     "traceback": [
      "\u001b[1;31m---------------------------------------------------------------------------\u001b[0m",
      "\u001b[1;31mOSError\u001b[0m                                   Traceback (most recent call last)",
      "\u001b[1;32m<ipython-input-2-66820dcea05f>\u001b[0m in \u001b[0;36m<module>\u001b[1;34m\u001b[0m\n\u001b[0;32m      6\u001b[0m \u001b[1;33m\u001b[0m\u001b[0m\n\u001b[0;32m      7\u001b[0m \u001b[1;31m##open list of fits files to create python set of file names\u001b[0m\u001b[1;33m\u001b[0m\u001b[1;33m\u001b[0m\u001b[1;33m\u001b[0m\u001b[0m\n\u001b[1;32m----> 8\u001b[1;33m \u001b[1;32mwith\u001b[0m \u001b[0mopen\u001b[0m\u001b[1;33m(\u001b[0m\u001b[1;34m'jupyter_image_maker\\agn_lensed_bulges\\list'\u001b[0m\u001b[1;33m,\u001b[0m\u001b[1;34m\"r+\"\u001b[0m\u001b[1;33m)\u001b[0m \u001b[1;32mas\u001b[0m \u001b[0mmyfile\u001b[0m\u001b[1;33m:\u001b[0m\u001b[1;33m\u001b[0m\u001b[1;33m\u001b[0m\u001b[0m\n\u001b[0m\u001b[0;32m      9\u001b[0m     \u001b[1;31m##Create set that is a list of file names to be used as a tag added onto later code to pull file location\u001b[0m\u001b[1;33m\u001b[0m\u001b[1;33m\u001b[0m\u001b[1;33m\u001b[0m\u001b[0m\n\u001b[0;32m     10\u001b[0m     \u001b[0mdata\u001b[0m \u001b[1;33m=\u001b[0m \u001b[1;33m[\u001b[0m\u001b[0mx\u001b[0m\u001b[1;33m.\u001b[0m\u001b[0mstrip\u001b[0m\u001b[1;33m(\u001b[0m\u001b[1;33m)\u001b[0m \u001b[1;32mfor\u001b[0m \u001b[0mx\u001b[0m \u001b[1;32min\u001b[0m \u001b[0mmyfile\u001b[0m\u001b[1;33m.\u001b[0m\u001b[0mreadlines\u001b[0m\u001b[1;33m(\u001b[0m\u001b[1;33m)\u001b[0m\u001b[1;33m]\u001b[0m\u001b[1;33m\u001b[0m\u001b[1;33m\u001b[0m\u001b[0m\n",
      "\u001b[1;31mOSError\u001b[0m: [Errno 22] Invalid argument: 'jupyter_image_maker\\x07gn_lensed_bulges\\\\list'"
     ]
    }
   ],
   "source": [
    "\n",
    "#############################################################################\n",
    "#\n",
    "# Deal with observed spectrum...\n",
    "#\n",
    "#############################################################################\n",
    "\n",
    "##open list of fits files to create python set of file names\n",
    "with open('jupyter_image_maker\\agn_lensed_bulges\\list',\"r+\") as myfile:\n",
    "    ##Create set that is a list of file names to be used as a tag added onto later code to pull file location\n",
    "    data = [x.strip() for x in myfile.readlines()]\n",
    "myfile.close()\n",
    "\n",
    "    #print(data[0])\n",
    "\n",
    "## for each input file i in the data set do the following\n",
    "#for i in range (0, len(data)):\n",
    "for i in range (0, 1):\n",
    "    ##define where to get the inputFilename\n",
    "    inputFilename = data[i]\n",
    "    ##Define file location\n",
    "    inputFile = 'jupyter_image_maker\\agn_lensed_bulges'+inputFilename  \n",
    "  #  print(inputFile)\n",
    "    ##define what input will be used to generate image from astropy's fits package using getdata function to creat set of the file variables\n",
    "    image_data = fits.getdata(inputFile)\n",
    "    #create plotted image using input\n",
    "    plt.figure(i)\n",
    "    #define title as file name\n",
    "    title=inputFilename\n",
    "    ##add title variable as the title input\n",
    "    plt.title(title)\n",
    "    #show the imange using the data, colormapped to grayscale\n",
    "    plt.imshow(image_data, cmap='gray')\n",
    "    \n",
    "    ##attempt to use matplotlib.pyplot.savefig function default parameters shown below\n",
    "        ##May execute only on current fig, so needs to be end part of fig creation cycle\n",
    "    \n",
    "    ##savefig(fname, dpi=None, facecolor='w', edgecolor='w',\n",
    "        ##orientation='portrait', papertype=None, format=None,\n",
    "        ##transparent=False, bbox_inches=None, pad_inches=0.1,\n",
    "        ##frameon=None, metadata=None)\n",
    "    \n",
    "    ##fname is name of the image file that is saved, default location seems to be Desktop\n",
    "    \n",
    "    ##format requires string value\n",
    "    \n",
    "    ##need to strip .fits from fname title or defaults to that format over other parameters\n",
    "    #figTitle = title.replace('.fits','.jpeg')\n",
    "    figTitle = title.replace('.fits','.jpeg')\n",
    "    print(figTitle)\n",
    "    \n",
    "    ##When running out of Jupyter Notebook, defaults to directory this .ipynb is in, currently in smtomsky.github.io/_images\n",
    "      \n",
    "    plt.savefig(fname=figTitle)\n",
    "    \n",
    "    \n",
    "    ##Attempts to create filepath that accepts the .jpeg version of the figTitle\n",
    "    #plt.savefig(fname=('/FitsJPEGs/'+figTitle))\n",
    "    \n",
    "#inputFile1 = '/volumes/WiesLab1/LSST/sims_GCRCatSimInterface/data/outputs/agn_lensed_bulges/2645133196385_23.076501516923077_bulge.fits'\n",
    "\n",
    "#aper_row_min = ss_aper_row_center - ss_delta_aper_row\n",
    "#aper_row_max = ss_aper_row_center + ss_delta_aper_row\n",
    "#small_plot_row_min = ss_aper_row_center - ss_delta_plot_row\n",
    "#small_plot_row_max = ss_aper_row_center + ss_delta_plot_row\n",
    "#for i, row in m.iterrows():\n",
    " #   name=m[i]\n",
    " #   print (\"loading \", name)\n",
    "    \n",
    "\n",
    "    \n",
    "\n",
    "#print('Min:', np.min(image_data))\n",
    "#print('Max:', np.max(image_data))\n",
    "#print('Mean:', np.mean(image_data))\n",
    "#print('Stdev:', np.std(image_data))\n",
    "\n",
    "#vmin = np.mean(image_data) - np.std(image_data)\n",
    "#vmax = np.mean(image_data) + 2.*np.std(image_data)\n",
    "\n",
    "    \n",
    "\n",
    "\n",
    "#plt.xlabel(\"Column Number [pixels]\")\n",
    "#plt.ylabel(\"Row Number [pixels]\")\n",
    "#title=\"\"\"%s:  Raw 2D Spectrum\"\"\" % (os.path.basename(inputFile))\n",
    "#plt.title(title)\n",
    "\n"
   ]
  },
  {
   "cell_type": "code",
   "execution_count": null,
   "metadata": {},
   "outputs": [],
   "source": []
  },
  {
   "cell_type": "code",
   "execution_count": null,
   "metadata": {},
   "outputs": [],
   "source": []
  }
 ],
 "metadata": {
  "anaconda-cloud": {},
  "kernelspec": {
   "display_name": "Python 3",
   "language": "python",
   "name": "python3"
  },
  "language_info": {
   "codemirror_mode": {
    "name": "ipython",
    "version": 3
   },
   "file_extension": ".py",
   "mimetype": "text/x-python",
   "name": "python",
   "nbconvert_exporter": "python",
   "pygments_lexer": "ipython3",
   "version": "3.7.6"
  }
 },
 "nbformat": 4,
 "nbformat_minor": 1
}
